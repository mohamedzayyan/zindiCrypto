{
 "cells": [
  {
   "cell_type": "markdown",
   "metadata": {
    "id": "trFRqFe0KC76"
   },
   "source": [
    "# Simple Starter Notebook for;\n",
    "## Cryptocurrency Closing Price Prediction Challenge\n",
    "\n",
    "\n",
    "Can you predict the closing price for a cryptocurrency? \n",
    "\n",
    "The objective of this challenge is to create a machine learning model that will predict closing price for a crypto currency coing. "
   ]
  },
  {
   "cell_type": "code",
   "execution_count": 64,
   "metadata": {
    "id": "YBArGtJwFzwO"
   },
   "outputs": [],
   "source": [
    "# Import libraries\n",
    "import pandas as pd\n",
    "import numpy as np\n",
    "import matplotlib.pyplot as plt\n",
    "from sklearn.model_selection import train_test_split\n",
    "from sklearn.linear_model import LinearRegression\n",
    "from sklearn.impute import KNNImputer\n",
    "\n",
    "#from google.colab import files"
   ]
  },
  {
   "cell_type": "code",
   "execution_count": 65,
   "metadata": {
    "id": "A1Nlsw9lGHTB"
   },
   "outputs": [],
   "source": [
    "# Load files\n",
    "train = pd.read_csv('Train.csv')\n",
    "test = pd.read_csv('Test.csv')\n",
    "ss = pd.read_csv('SampleSubmission.csv')"
   ]
  },
  {
   "cell_type": "code",
   "execution_count": 66,
   "metadata": {
    "colab": {
     "base_uri": "https://localhost:8080/"
    },
    "id": "a7Jni6DMGVKd",
    "outputId": "7692dde0-9048-47e3-8741-8f091e74e4c2"
   },
   "outputs": [
    {
     "data": {
      "text/plain": [
       "((12632, 49), (6222, 48), (6222, 2))"
      ]
     },
     "execution_count": 66,
     "metadata": {},
     "output_type": "execute_result"
    }
   ],
   "source": [
    "# check data shapes\n",
    "train.shape, test.shape, ss.shape"
   ]
  },
  {
   "cell_type": "code",
   "execution_count": 67,
   "metadata": {
    "colab": {
     "base_uri": "https://localhost:8080/",
     "height": 224
    },
    "id": "LRHncK2pHSmR",
    "outputId": "34a61eeb-c796-4468-dfd7-0b81f463960d"
   },
   "outputs": [
    {
     "data": {
      "text/html": [
       "<div>\n",
       "<style scoped>\n",
       "    .dataframe tbody tr th:only-of-type {\n",
       "        vertical-align: middle;\n",
       "    }\n",
       "\n",
       "    .dataframe tbody tr th {\n",
       "        vertical-align: top;\n",
       "    }\n",
       "\n",
       "    .dataframe thead th {\n",
       "        text-align: right;\n",
       "    }\n",
       "</style>\n",
       "<table border=\"1\" class=\"dataframe\">\n",
       "  <thead>\n",
       "    <tr style=\"text-align: right;\">\n",
       "      <th></th>\n",
       "      <th>id</th>\n",
       "      <th>asset_id</th>\n",
       "      <th>open</th>\n",
       "      <th>high</th>\n",
       "      <th>low</th>\n",
       "      <th>volume</th>\n",
       "      <th>market_cap</th>\n",
       "      <th>url_shares</th>\n",
       "      <th>unique_url_shares</th>\n",
       "      <th>reddit_posts</th>\n",
       "      <th>...</th>\n",
       "      <th>percent_change_24h_rank</th>\n",
       "      <th>volume_24h_rank</th>\n",
       "      <th>social_volume_24h_rank</th>\n",
       "      <th>social_score_24h_rank</th>\n",
       "      <th>medium</th>\n",
       "      <th>youtube</th>\n",
       "      <th>social_volume</th>\n",
       "      <th>percent_change_24h</th>\n",
       "      <th>market_cap_global</th>\n",
       "      <th>close</th>\n",
       "    </tr>\n",
       "  </thead>\n",
       "  <tbody>\n",
       "    <tr>\n",
       "      <th>0</th>\n",
       "      <td>ID_322qz6</td>\n",
       "      <td>1</td>\n",
       "      <td>9422.849081</td>\n",
       "      <td>9428.490628</td>\n",
       "      <td>9422.849081</td>\n",
       "      <td>7.131986e+08</td>\n",
       "      <td>1.737635e+11</td>\n",
       "      <td>1689.0</td>\n",
       "      <td>817.0</td>\n",
       "      <td>55.0</td>\n",
       "      <td>...</td>\n",
       "      <td>606.0</td>\n",
       "      <td>2.0</td>\n",
       "      <td>1.0</td>\n",
       "      <td>1.0</td>\n",
       "      <td>2.0</td>\n",
       "      <td>5.0</td>\n",
       "      <td>4422</td>\n",
       "      <td>1.434516</td>\n",
       "      <td>2.818066e+11</td>\n",
       "      <td>9428.279323</td>\n",
       "    </tr>\n",
       "    <tr>\n",
       "      <th>1</th>\n",
       "      <td>ID_3239o9</td>\n",
       "      <td>1</td>\n",
       "      <td>7985.359278</td>\n",
       "      <td>7992.059917</td>\n",
       "      <td>7967.567267</td>\n",
       "      <td>4.004755e+08</td>\n",
       "      <td>1.426942e+11</td>\n",
       "      <td>920.0</td>\n",
       "      <td>544.0</td>\n",
       "      <td>20.0</td>\n",
       "      <td>...</td>\n",
       "      <td>NaN</td>\n",
       "      <td>NaN</td>\n",
       "      <td>NaN</td>\n",
       "      <td>NaN</td>\n",
       "      <td>NaN</td>\n",
       "      <td>NaN</td>\n",
       "      <td>2159</td>\n",
       "      <td>-2.459507</td>\n",
       "      <td>2.126897e+11</td>\n",
       "      <td>7967.567267</td>\n",
       "    </tr>\n",
       "    <tr>\n",
       "      <th>2</th>\n",
       "      <td>ID_323J9k</td>\n",
       "      <td>1</td>\n",
       "      <td>49202.033778</td>\n",
       "      <td>49394.593518</td>\n",
       "      <td>49068.057046</td>\n",
       "      <td>3.017729e+09</td>\n",
       "      <td>9.166977e+11</td>\n",
       "      <td>1446.0</td>\n",
       "      <td>975.0</td>\n",
       "      <td>72.0</td>\n",
       "      <td>...</td>\n",
       "      <td>692.0</td>\n",
       "      <td>3.0</td>\n",
       "      <td>1.0</td>\n",
       "      <td>1.0</td>\n",
       "      <td>NaN</td>\n",
       "      <td>NaN</td>\n",
       "      <td>10602</td>\n",
       "      <td>4.942448</td>\n",
       "      <td>1.530712e+12</td>\n",
       "      <td>49120.738484</td>\n",
       "    </tr>\n",
       "    <tr>\n",
       "      <th>3</th>\n",
       "      <td>ID_323y5P</td>\n",
       "      <td>1</td>\n",
       "      <td>NaN</td>\n",
       "      <td>NaN</td>\n",
       "      <td>NaN</td>\n",
       "      <td>NaN</td>\n",
       "      <td>NaN</td>\n",
       "      <td>NaN</td>\n",
       "      <td>NaN</td>\n",
       "      <td>17.0</td>\n",
       "      <td>...</td>\n",
       "      <td>NaN</td>\n",
       "      <td>NaN</td>\n",
       "      <td>NaN</td>\n",
       "      <td>NaN</td>\n",
       "      <td>NaN</td>\n",
       "      <td>NaN</td>\n",
       "      <td>285</td>\n",
       "      <td>NaN</td>\n",
       "      <td>NaN</td>\n",
       "      <td>NaN</td>\n",
       "    </tr>\n",
       "    <tr>\n",
       "      <th>4</th>\n",
       "      <td>ID_324kJH</td>\n",
       "      <td>1</td>\n",
       "      <td>10535.737119</td>\n",
       "      <td>10535.737119</td>\n",
       "      <td>10384.798216</td>\n",
       "      <td>1.150053e+09</td>\n",
       "      <td>1.921183e+11</td>\n",
       "      <td>1012.0</td>\n",
       "      <td>638.0</td>\n",
       "      <td>24.0</td>\n",
       "      <td>...</td>\n",
       "      <td>749.0</td>\n",
       "      <td>2.0</td>\n",
       "      <td>1.0</td>\n",
       "      <td>1.0</td>\n",
       "      <td>NaN</td>\n",
       "      <td>2.0</td>\n",
       "      <td>3996</td>\n",
       "      <td>2.609576</td>\n",
       "      <td>3.386925e+11</td>\n",
       "      <td>10384.798216</td>\n",
       "    </tr>\n",
       "  </tbody>\n",
       "</table>\n",
       "<p>5 rows × 49 columns</p>\n",
       "</div>"
      ],
      "text/plain": [
       "          id  asset_id          open          high           low  \\\n",
       "0  ID_322qz6         1   9422.849081   9428.490628   9422.849081   \n",
       "1  ID_3239o9         1   7985.359278   7992.059917   7967.567267   \n",
       "2  ID_323J9k         1  49202.033778  49394.593518  49068.057046   \n",
       "3  ID_323y5P         1           NaN           NaN           NaN   \n",
       "4  ID_324kJH         1  10535.737119  10535.737119  10384.798216   \n",
       "\n",
       "         volume    market_cap  url_shares  unique_url_shares  reddit_posts  \\\n",
       "0  7.131986e+08  1.737635e+11      1689.0              817.0          55.0   \n",
       "1  4.004755e+08  1.426942e+11       920.0              544.0          20.0   \n",
       "2  3.017729e+09  9.166977e+11      1446.0              975.0          72.0   \n",
       "3           NaN           NaN         NaN                NaN          17.0   \n",
       "4  1.150053e+09  1.921183e+11      1012.0              638.0          24.0   \n",
       "\n",
       "   ...  percent_change_24h_rank  volume_24h_rank  social_volume_24h_rank  \\\n",
       "0  ...                    606.0              2.0                     1.0   \n",
       "1  ...                      NaN              NaN                     NaN   \n",
       "2  ...                    692.0              3.0                     1.0   \n",
       "3  ...                      NaN              NaN                     NaN   \n",
       "4  ...                    749.0              2.0                     1.0   \n",
       "\n",
       "   social_score_24h_rank  medium  youtube  social_volume  percent_change_24h  \\\n",
       "0                    1.0     2.0      5.0           4422            1.434516   \n",
       "1                    NaN     NaN      NaN           2159           -2.459507   \n",
       "2                    1.0     NaN      NaN          10602            4.942448   \n",
       "3                    NaN     NaN      NaN            285                 NaN   \n",
       "4                    1.0     NaN      2.0           3996            2.609576   \n",
       "\n",
       "   market_cap_global         close  \n",
       "0       2.818066e+11   9428.279323  \n",
       "1       2.126897e+11   7967.567267  \n",
       "2       1.530712e+12  49120.738484  \n",
       "3                NaN           NaN  \n",
       "4       3.386925e+11  10384.798216  \n",
       "\n",
       "[5 rows x 49 columns]"
      ]
     },
     "execution_count": 67,
     "metadata": {},
     "output_type": "execute_result"
    }
   ],
   "source": [
    "# Preview train\n",
    "train.head()"
   ]
  },
  {
   "cell_type": "code",
   "execution_count": 68,
   "metadata": {},
   "outputs": [
    {
     "data": {
      "text/plain": [
       "array([1])"
      ]
     },
     "execution_count": 68,
     "metadata": {},
     "output_type": "execute_result"
    }
   ],
   "source": [
    "test.asset_id.unique()"
   ]
  },
  {
   "cell_type": "code",
   "execution_count": 69,
   "metadata": {
    "colab": {
     "base_uri": "https://localhost:8080/",
     "height": 224
    },
    "id": "7miwQ34Jcpbz",
    "outputId": "a7c4f474-e0a2-4a31-b789-6d1f43eca16f"
   },
   "outputs": [
    {
     "data": {
      "text/html": [
       "<div>\n",
       "<style scoped>\n",
       "    .dataframe tbody tr th:only-of-type {\n",
       "        vertical-align: middle;\n",
       "    }\n",
       "\n",
       "    .dataframe tbody tr th {\n",
       "        vertical-align: top;\n",
       "    }\n",
       "\n",
       "    .dataframe thead th {\n",
       "        text-align: right;\n",
       "    }\n",
       "</style>\n",
       "<table border=\"1\" class=\"dataframe\">\n",
       "  <thead>\n",
       "    <tr style=\"text-align: right;\">\n",
       "      <th></th>\n",
       "      <th>id</th>\n",
       "      <th>asset_id</th>\n",
       "      <th>open</th>\n",
       "      <th>high</th>\n",
       "      <th>low</th>\n",
       "      <th>volume</th>\n",
       "      <th>market_cap</th>\n",
       "      <th>url_shares</th>\n",
       "      <th>unique_url_shares</th>\n",
       "      <th>reddit_posts</th>\n",
       "      <th>...</th>\n",
       "      <th>market_cap_rank</th>\n",
       "      <th>percent_change_24h_rank</th>\n",
       "      <th>volume_24h_rank</th>\n",
       "      <th>social_volume_24h_rank</th>\n",
       "      <th>social_score_24h_rank</th>\n",
       "      <th>medium</th>\n",
       "      <th>youtube</th>\n",
       "      <th>social_volume</th>\n",
       "      <th>percent_change_24h</th>\n",
       "      <th>market_cap_global</th>\n",
       "    </tr>\n",
       "  </thead>\n",
       "  <tbody>\n",
       "    <tr>\n",
       "      <th>0</th>\n",
       "      <td>ID_323Sn2</td>\n",
       "      <td>1</td>\n",
       "      <td>NaN</td>\n",
       "      <td>NaN</td>\n",
       "      <td>NaN</td>\n",
       "      <td>NaN</td>\n",
       "      <td>NaN</td>\n",
       "      <td>NaN</td>\n",
       "      <td>NaN</td>\n",
       "      <td>7.0</td>\n",
       "      <td>...</td>\n",
       "      <td>NaN</td>\n",
       "      <td>NaN</td>\n",
       "      <td>NaN</td>\n",
       "      <td>NaN</td>\n",
       "      <td>NaN</td>\n",
       "      <td>NaN</td>\n",
       "      <td>NaN</td>\n",
       "      <td>9</td>\n",
       "      <td>NaN</td>\n",
       "      <td>NaN</td>\n",
       "    </tr>\n",
       "    <tr>\n",
       "      <th>1</th>\n",
       "      <td>ID_325SNW</td>\n",
       "      <td>1</td>\n",
       "      <td>11335.062188</td>\n",
       "      <td>11351.690956</td>\n",
       "      <td>11335.062188</td>\n",
       "      <td>1.064152e+09</td>\n",
       "      <td>2.101463e+11</td>\n",
       "      <td>1664.0</td>\n",
       "      <td>1045.0</td>\n",
       "      <td>64.0</td>\n",
       "      <td>...</td>\n",
       "      <td>1.0</td>\n",
       "      <td>711.0</td>\n",
       "      <td>2.0</td>\n",
       "      <td>1.0</td>\n",
       "      <td>1.0</td>\n",
       "      <td>1.0</td>\n",
       "      <td>1.0</td>\n",
       "      <td>7245</td>\n",
       "      <td>-0.555698</td>\n",
       "      <td>3.631052e+11</td>\n",
       "    </tr>\n",
       "    <tr>\n",
       "      <th>2</th>\n",
       "      <td>ID_325uzE</td>\n",
       "      <td>1</td>\n",
       "      <td>6322.560756</td>\n",
       "      <td>6328.362354</td>\n",
       "      <td>6294.714484</td>\n",
       "      <td>1.516268e+09</td>\n",
       "      <td>1.153862e+11</td>\n",
       "      <td>397.0</td>\n",
       "      <td>255.0</td>\n",
       "      <td>11.0</td>\n",
       "      <td>...</td>\n",
       "      <td>1.0</td>\n",
       "      <td>715.0</td>\n",
       "      <td>2.0</td>\n",
       "      <td>1.0</td>\n",
       "      <td>1.0</td>\n",
       "      <td>NaN</td>\n",
       "      <td>NaN</td>\n",
       "      <td>2702</td>\n",
       "      <td>1.689370</td>\n",
       "      <td>1.771075e+11</td>\n",
       "    </tr>\n",
       "    <tr>\n",
       "      <th>3</th>\n",
       "      <td>ID_328qCx</td>\n",
       "      <td>1</td>\n",
       "      <td>NaN</td>\n",
       "      <td>NaN</td>\n",
       "      <td>NaN</td>\n",
       "      <td>NaN</td>\n",
       "      <td>NaN</td>\n",
       "      <td>NaN</td>\n",
       "      <td>NaN</td>\n",
       "      <td>8.0</td>\n",
       "      <td>...</td>\n",
       "      <td>NaN</td>\n",
       "      <td>NaN</td>\n",
       "      <td>NaN</td>\n",
       "      <td>NaN</td>\n",
       "      <td>NaN</td>\n",
       "      <td>NaN</td>\n",
       "      <td>NaN</td>\n",
       "      <td>225</td>\n",
       "      <td>NaN</td>\n",
       "      <td>NaN</td>\n",
       "    </tr>\n",
       "    <tr>\n",
       "      <th>4</th>\n",
       "      <td>ID_3293uJ</td>\n",
       "      <td>1</td>\n",
       "      <td>NaN</td>\n",
       "      <td>NaN</td>\n",
       "      <td>NaN</td>\n",
       "      <td>NaN</td>\n",
       "      <td>NaN</td>\n",
       "      <td>NaN</td>\n",
       "      <td>NaN</td>\n",
       "      <td>26.0</td>\n",
       "      <td>...</td>\n",
       "      <td>NaN</td>\n",
       "      <td>NaN</td>\n",
       "      <td>NaN</td>\n",
       "      <td>NaN</td>\n",
       "      <td>NaN</td>\n",
       "      <td>NaN</td>\n",
       "      <td>NaN</td>\n",
       "      <td>59</td>\n",
       "      <td>NaN</td>\n",
       "      <td>NaN</td>\n",
       "    </tr>\n",
       "  </tbody>\n",
       "</table>\n",
       "<p>5 rows × 48 columns</p>\n",
       "</div>"
      ],
      "text/plain": [
       "          id  asset_id          open          high           low  \\\n",
       "0  ID_323Sn2         1           NaN           NaN           NaN   \n",
       "1  ID_325SNW         1  11335.062188  11351.690956  11335.062188   \n",
       "2  ID_325uzE         1   6322.560756   6328.362354   6294.714484   \n",
       "3  ID_328qCx         1           NaN           NaN           NaN   \n",
       "4  ID_3293uJ         1           NaN           NaN           NaN   \n",
       "\n",
       "         volume    market_cap  url_shares  unique_url_shares  reddit_posts  \\\n",
       "0           NaN           NaN         NaN                NaN           7.0   \n",
       "1  1.064152e+09  2.101463e+11      1664.0             1045.0          64.0   \n",
       "2  1.516268e+09  1.153862e+11       397.0              255.0          11.0   \n",
       "3           NaN           NaN         NaN                NaN           8.0   \n",
       "4           NaN           NaN         NaN                NaN          26.0   \n",
       "\n",
       "   ...  market_cap_rank  percent_change_24h_rank  volume_24h_rank  \\\n",
       "0  ...              NaN                      NaN              NaN   \n",
       "1  ...              1.0                    711.0              2.0   \n",
       "2  ...              1.0                    715.0              2.0   \n",
       "3  ...              NaN                      NaN              NaN   \n",
       "4  ...              NaN                      NaN              NaN   \n",
       "\n",
       "   social_volume_24h_rank  social_score_24h_rank  medium  youtube  \\\n",
       "0                     NaN                    NaN     NaN      NaN   \n",
       "1                     1.0                    1.0     1.0      1.0   \n",
       "2                     1.0                    1.0     NaN      NaN   \n",
       "3                     NaN                    NaN     NaN      NaN   \n",
       "4                     NaN                    NaN     NaN      NaN   \n",
       "\n",
       "   social_volume  percent_change_24h  market_cap_global  \n",
       "0              9                 NaN                NaN  \n",
       "1           7245           -0.555698       3.631052e+11  \n",
       "2           2702            1.689370       1.771075e+11  \n",
       "3            225                 NaN                NaN  \n",
       "4             59                 NaN                NaN  \n",
       "\n",
       "[5 rows x 48 columns]"
      ]
     },
     "execution_count": 69,
     "metadata": {},
     "output_type": "execute_result"
    }
   ],
   "source": [
    "test.head()"
   ]
  },
  {
   "cell_type": "code",
   "execution_count": 70,
   "metadata": {},
   "outputs": [
    {
     "data": {
      "text/plain": [
       "array([1])"
      ]
     },
     "execution_count": 70,
     "metadata": {},
     "output_type": "execute_result"
    }
   ],
   "source": [
    "test.asset_id.unique()"
   ]
  },
  {
   "cell_type": "code",
   "execution_count": 71,
   "metadata": {
    "colab": {
     "base_uri": "https://localhost:8080/",
     "height": 204
    },
    "id": "T4tqzRGccpnU",
    "outputId": "7a55f88f-e838-4f02-bbfd-7b915227cfbe"
   },
   "outputs": [
    {
     "data": {
      "text/html": [
       "<div>\n",
       "<style scoped>\n",
       "    .dataframe tbody tr th:only-of-type {\n",
       "        vertical-align: middle;\n",
       "    }\n",
       "\n",
       "    .dataframe tbody tr th {\n",
       "        vertical-align: top;\n",
       "    }\n",
       "\n",
       "    .dataframe thead th {\n",
       "        text-align: right;\n",
       "    }\n",
       "</style>\n",
       "<table border=\"1\" class=\"dataframe\">\n",
       "  <thead>\n",
       "    <tr style=\"text-align: right;\">\n",
       "      <th></th>\n",
       "      <th>id</th>\n",
       "      <th>close</th>\n",
       "    </tr>\n",
       "  </thead>\n",
       "  <tbody>\n",
       "    <tr>\n",
       "      <th>0</th>\n",
       "      <td>ID_323Sn2</td>\n",
       "      <td>0</td>\n",
       "    </tr>\n",
       "    <tr>\n",
       "      <th>1</th>\n",
       "      <td>ID_325SNW</td>\n",
       "      <td>0</td>\n",
       "    </tr>\n",
       "    <tr>\n",
       "      <th>2</th>\n",
       "      <td>ID_325uzE</td>\n",
       "      <td>0</td>\n",
       "    </tr>\n",
       "    <tr>\n",
       "      <th>3</th>\n",
       "      <td>ID_328qCx</td>\n",
       "      <td>0</td>\n",
       "    </tr>\n",
       "    <tr>\n",
       "      <th>4</th>\n",
       "      <td>ID_3293uJ</td>\n",
       "      <td>0</td>\n",
       "    </tr>\n",
       "  </tbody>\n",
       "</table>\n",
       "</div>"
      ],
      "text/plain": [
       "          id  close\n",
       "0  ID_323Sn2      0\n",
       "1  ID_325SNW      0\n",
       "2  ID_325uzE      0\n",
       "3  ID_328qCx      0\n",
       "4  ID_3293uJ      0"
      ]
     },
     "execution_count": 71,
     "metadata": {},
     "output_type": "execute_result"
    }
   ],
   "source": [
    "ss.head()"
   ]
  },
  {
   "cell_type": "markdown",
   "metadata": {
    "id": "m7PmKG0OeHBC"
   },
   "source": [
    "# Let's look for missing values"
   ]
  },
  {
   "cell_type": "code",
   "execution_count": 72,
   "metadata": {
    "colab": {
     "base_uri": "https://localhost:8080/",
     "height": 609
    },
    "id": "0YgW1BBvd7l9",
    "outputId": "f97cee11-9c0a-4db0-85ae-9c3ec0bc5a84"
   },
   "outputs": [],
   "source": [
    "# Check if there any missing values in train set\n",
    "ax = train.isna().sum().sort_values().plot(kind = 'barh', figsize = (9, 10))\n",
    "plt.title('Percentage of Missing Values Per Column in Train Set', fontdict={'size':15})\n",
    "for p in ax.patches:\n",
    "    percentage ='{:,.0f}%'.format((p.get_width()/train.shape[0])*100)\n",
    "    width, height =p.get_width(),p.get_height()\n",
    "    x=p.get_x()+width+0.02\n",
    "    y=p.get_y()+height/2\n",
    "    ax.annotate(percentage,(x,y))"
   ]
  },
  {
   "cell_type": "code",
   "execution_count": 73,
   "metadata": {
    "colab": {
     "base_uri": "https://localhost:8080/",
     "height": 609
    },
    "id": "eBzu4neOeFDt",
    "outputId": "18ec60cc-cd08-4cb5-a272-0c062a593f6c"
   },
   "outputs": [],
   "source": [
    "# Check if there missing values in test set\n",
    "ax = test.isna().sum().sort_values().plot(kind = 'barh', figsize = (9, 10))\n",
    "plt.title('Percentage of Missing Values Per Column in Test Set', fontdict={'size':15})\n",
    "\n",
    "for p in ax.patches:\n",
    "    percentage ='{:,.1f}%'.format((p.get_width()/test.shape[0])*100)\n",
    "    width, height =p.get_width(),p.get_height()\n",
    "    x=p.get_x()+width+0.02\n",
    "    y=p.get_y()+height/2\n",
    "    ax.annotate(percentage,(x,y))"
   ]
  },
  {
   "cell_type": "code",
   "execution_count": 92,
   "metadata": {
    "scrolled": true
   },
   "outputs": [],
   "source": [
    "#getting the data types of the data \n",
    "#converting categorical features to numbers \n",
    "#train.dtypes"
   ]
  },
  {
   "cell_type": "code",
   "execution_count": 75,
   "metadata": {},
   "outputs": [],
   "source": [
    "#y = train.close"
   ]
  },
  {
   "cell_type": "code",
   "execution_count": 76,
   "metadata": {},
   "outputs": [
    {
     "data": {
      "text/plain": [
       "12632"
      ]
     },
     "execution_count": 76,
     "metadata": {},
     "output_type": "execute_result"
    }
   ],
   "source": [
    "#len(train.id.unique())"
   ]
  },
  {
   "cell_type": "code",
   "execution_count": 77,
   "metadata": {},
   "outputs": [
    {
     "data": {
      "text/plain": [
       "array([1])"
      ]
     },
     "execution_count": 77,
     "metadata": {},
     "output_type": "execute_result"
    }
   ],
   "source": [
    "#train.asset_id.unique()"
   ]
  },
  {
   "cell_type": "code",
   "execution_count": 128,
   "metadata": {},
   "outputs": [],
   "source": [
    "main_cols = train.columns.difference(['id', 'close'])\n",
    "impute_columns = train.columns.difference(['id'])"
   ]
  },
  {
   "cell_type": "code",
   "execution_count": 129,
   "metadata": {},
   "outputs": [],
   "source": [
    "train1 = train[impute_columns]"
   ]
  },
  {
   "cell_type": "code",
   "execution_count": 130,
   "metadata": {},
   "outputs": [],
   "source": [
    "imputer = KNNImputer(n_neighbors=5) "
   ]
  },
  {
   "cell_type": "code",
   "execution_count": 131,
   "metadata": {},
   "outputs": [],
   "source": [
    "df_filled = imputer.fit_transform(train1)"
   ]
  },
  {
   "cell_type": "code",
   "execution_count": 108,
   "metadata": {},
   "outputs": [],
   "source": [
    "#df_filled"
   ]
  },
  {
   "cell_type": "code",
   "execution_count": 132,
   "metadata": {},
   "outputs": [],
   "source": [
    "df_new = pd.DataFrame(df_filled, columns = train1.columns, index=train1.index)"
   ]
  },
  {
   "cell_type": "code",
   "execution_count": null,
   "metadata": {},
   "outputs": [],
   "source": []
  },
  {
   "cell_type": "code",
   "execution_count": null,
   "metadata": {},
   "outputs": [],
   "source": []
  },
  {
   "cell_type": "code",
   "execution_count": null,
   "metadata": {},
   "outputs": [],
   "source": []
  },
  {
   "cell_type": "code",
   "execution_count": 133,
   "metadata": {},
   "outputs": [
    {
     "name": "stdout",
     "output_type": "stream",
     "text": [
      "{'n_estimators': [200, 400, 600, 800, 1000, 1200, 1400, 1600, 1800, 2000], 'max_features': ['auto', 'sqrt'], 'max_depth': [10, 20, 30, 40, 50, 60, 70, 80, 90, 100, 110, None], 'min_samples_split': [2, 5, 10], 'min_samples_leaf': [1, 2, 4], 'bootstrap': [False]}\n"
     ]
    }
   ],
   "source": [
    "from sklearn.model_selection import RandomizedSearchCV\n",
    "# Number of trees in random forest\n",
    "n_estimators = [int(x) for x in np.linspace(start = 200, stop = 2000, num = 10)]\n",
    "# Number of features to consider at every split\n",
    "max_features = ['auto', 'sqrt']\n",
    "# Maximum number of levels in tree\n",
    "max_depth = [int(x) for x in np.linspace(10, 110, num = 11)]\n",
    "max_depth.append(None)\n",
    "# Minimum number of samples required to split a node\n",
    "min_samples_split = [2, 5, 10]\n",
    "# Minimum number of samples required at each leaf node\n",
    "min_samples_leaf = [1, 2, 4]\n",
    "# Method of selecting samples for training each tree\n",
    "bootstrap = [False]\n",
    "# Create the random grid\n",
    "random_grid = {'n_estimators': n_estimators,\n",
    "               'max_features': max_features,\n",
    "               'max_depth': max_depth,\n",
    "               'min_samples_split': min_samples_split,\n",
    "               'min_samples_leaf': min_samples_leaf,\n",
    "               'bootstrap': bootstrap}\n",
    "print(random_grid)\n"
   ]
  },
  {
   "cell_type": "code",
   "execution_count": 112,
   "metadata": {},
   "outputs": [],
   "source": [
    "#train_labels.fillna(0)"
   ]
  },
  {
   "cell_type": "code",
   "execution_count": 113,
   "metadata": {},
   "outputs": [],
   "source": [
    "#train_labels"
   ]
  },
  {
   "cell_type": "code",
   "execution_count": 134,
   "metadata": {},
   "outputs": [
    {
     "name": "stdout",
     "output_type": "stream",
     "text": [
      "Fitting 5 folds for each of 5 candidates, totalling 25 fits\n"
     ]
    },
    {
     "name": "stderr",
     "output_type": "stream",
     "text": [
      "/opt/anaconda3/lib/python3.8/site-packages/joblib/externals/loky/process_executor.py:688: UserWarning: A worker stopped while some jobs were given to the executor. This can be caused by a too short worker timeout or by a memory leak.\n",
      "  warnings.warn(\n"
     ]
    },
    {
     "data": {
      "text/plain": [
       "RandomizedSearchCV(estimator=RandomForestRegressor(), n_iter=5, n_jobs=-1,\n",
       "                   param_distributions={'bootstrap': [False],\n",
       "                                        'max_depth': [10, 20, 30, 40, 50, 60,\n",
       "                                                      70, 80, 90, 100, 110,\n",
       "                                                      None],\n",
       "                                        'max_features': ['auto', 'sqrt'],\n",
       "                                        'min_samples_leaf': [1, 2, 4],\n",
       "                                        'min_samples_split': [2, 5, 10],\n",
       "                                        'n_estimators': [200, 400, 600, 800,\n",
       "                                                         1000, 1200, 1400, 1600,\n",
       "                                                         1800, 2000]},\n",
       "                   random_state=42, verbose=2)"
      ]
     },
     "execution_count": 134,
     "metadata": {},
     "output_type": "execute_result"
    }
   ],
   "source": [
    "from sklearn.ensemble import RandomForestRegressor\n",
    "\n",
    "# Use the random grid to search for best hyperparameters\n",
    "# First create the base model to tune\n",
    "rf = RandomForestRegressor()\n",
    "# Random search of parameters, using 3 fold cross validation, \n",
    "# search across 100 different combinations, and use all available cores\n",
    "rf_random = RandomizedSearchCV(estimator = rf, param_distributions = random_grid, n_iter = 5, verbose=2, random_state=42, n_jobs = -1)\n",
    "# Fit the random search model\n",
    "\n",
    "\n",
    "\n",
    "train_descriptors = df_new[main_cols]\n",
    "train_labels = df_new.close.astype(float)\n",
    "rf_random.fit(train_descriptors,train_labels )"
   ]
  },
  {
   "cell_type": "code",
   "execution_count": 135,
   "metadata": {},
   "outputs": [],
   "source": [
    "test1 = test.drop(['id'], axis=1)\n",
    "test_df_filled = imputer.fit_transform(test1)\n",
    "test_df_filled_ = pd.DataFrame(test_df_filled, columns = test1.columns, index=test1.index)\n",
    "test_descriptors = test_df_filled_"
   ]
  },
  {
   "cell_type": "code",
   "execution_count": 136,
   "metadata": {},
   "outputs": [],
   "source": [
    "#test_df_filled_.columns"
   ]
  },
  {
   "cell_type": "code",
   "execution_count": 137,
   "metadata": {},
   "outputs": [],
   "source": [
    "predictions = rf_random.predict(test_descriptors)"
   ]
  },
  {
   "cell_type": "code",
   "execution_count": 138,
   "metadata": {},
   "outputs": [
    {
     "data": {
      "text/plain": [
       "array([55988.22182821, 56189.76797232, 55977.71828025, ...,\n",
       "       55988.22182821, 55980.37524091, 55977.71828025])"
      ]
     },
     "execution_count": 138,
     "metadata": {},
     "output_type": "execute_result"
    }
   ],
   "source": [
    "predictions"
   ]
  },
  {
   "cell_type": "code",
   "execution_count": 103,
   "metadata": {},
   "outputs": [],
   "source": [
    "\n"
   ]
  },
  {
   "cell_type": "code",
   "execution_count": 139,
   "metadata": {},
   "outputs": [],
   "source": [
    "sub_file = ss.copy()\n",
    "sub_file.close = predictions\n",
    "sub_file.to_csv('Baseline.csv', index = False)"
   ]
  },
  {
   "cell_type": "code",
   "execution_count": null,
   "metadata": {},
   "outputs": [],
   "source": []
  },
  {
   "cell_type": "code",
   "execution_count": null,
   "metadata": {},
   "outputs": [],
   "source": []
  },
  {
   "cell_type": "code",
   "execution_count": null,
   "metadata": {},
   "outputs": [],
   "source": []
  },
  {
   "cell_type": "code",
   "execution_count": 29,
   "metadata": {},
   "outputs": [],
   "source": [
    "import numpy as np\n",
    "\n",
    "from sklearn.datasets import fetch_california_housing\n",
    "from sklearn.datasets import load_diabetes\n",
    "\n",
    "\n",
    "\n",
    "rng = np.random.RandomState(42)\n",
    "\n",
    "X_diabetes, y_diabetes = load_diabetes(return_X_y=True)\n",
    "X_california, y_california = fetch_california_housing(return_X_y=True)\n",
    "X_california = X_california[:400]\n",
    "y_california = y_california[:400]\n",
    "\n",
    "\n",
    "def add_missing_values(X_full, y_full):\n",
    "    n_samples, n_features = X_full.shape\n",
    "\n",
    "    # Add missing values in 75% of the lines\n",
    "    missing_rate = 0.75\n",
    "    n_missing_samples = int(n_samples * missing_rate)\n",
    "\n",
    "    missing_samples = np.zeros(n_samples, dtype=bool)\n",
    "    missing_samples[: n_missing_samples] = True\n",
    "\n",
    "    rng.shuffle(missing_samples)\n",
    "    missing_features = rng.randint(0, n_features, n_missing_samples)\n",
    "    X_missing = X_full.copy()\n",
    "    X_missing[missing_samples, missing_features] = np.nan\n",
    "    y_missing = y_full.copy()\n",
    "\n",
    "    return X_missing, y_missing\n",
    "\n",
    "\n",
    "X_miss_california, y_miss_california = add_missing_values(\n",
    "    X_california, y_california)\n",
    "\n",
    "X_miss_diabetes, y_miss_diabetes = add_missing_values(\n",
    "    X_diabetes, y_diabetes)"
   ]
  },
  {
   "cell_type": "code",
   "execution_count": 30,
   "metadata": {},
   "outputs": [],
   "source": [
    "rng = np.random.RandomState(0)\n",
    "\n",
    "from sklearn.ensemble import RandomForestRegressor\n",
    "\n",
    "# To use the experimental IterativeImputer, we need to explicitly ask for it:\n",
    "from sklearn.experimental import enable_iterative_imputer  # noqa\n",
    "from sklearn.impute import SimpleImputer, KNNImputer, IterativeImputer\n",
    "from sklearn.model_selection import cross_val_score\n",
    "from sklearn.pipeline import make_pipeline\n",
    "\n",
    "\n",
    "N_SPLITS = 5\n",
    "regressor = RandomForestRegressor(random_state=0)"
   ]
  },
  {
   "cell_type": "code",
   "execution_count": null,
   "metadata": {},
   "outputs": [],
   "source": []
  },
  {
   "cell_type": "code",
   "execution_count": 31,
   "metadata": {},
   "outputs": [],
   "source": [
    "def get_scores_for_imputer(imputer, X_missing, y_missing):\n",
    "    estimator = make_pipeline(imputer, regressor)\n",
    "    impute_scores = cross_val_score(estimator, X_missing, y_missing,\n",
    "                                    scoring='neg_mean_squared_error',\n",
    "                                    cv=N_SPLITS)\n",
    "    return impute_scores\n",
    "\n",
    "\n",
    "x_labels = ['Full data',\n",
    "            'Zero imputation',\n",
    "            'Mean Imputation',\n",
    "            'KNN Imputation',\n",
    "            'Iterative Imputation']\n",
    "\n",
    "mses_california = np.zeros(5)\n",
    "stds_california = np.zeros(5)\n",
    "mses_diabetes = np.zeros(5)\n",
    "stds_diabetes = np.zeros(5)"
   ]
  },
  {
   "cell_type": "code",
   "execution_count": 32,
   "metadata": {},
   "outputs": [],
   "source": [
    "def get_impute_knn_score(X_missing, y_missing):\n",
    "    imputer = KNNImputer(missing_values=np.nan, add_indicator=True)\n",
    "    knn_impute_scores = get_scores_for_imputer(imputer, X_missing, y_missing)\n",
    "    return knn_impute_scores.mean(), knn_impute_scores.std()\n",
    "\n",
    "\n",
    "mses_california[2], stds_california[2] = get_impute_knn_score(\n",
    "    X_miss_california, y_miss_california)\n",
    "mses_diabetes[2], stds_diabetes[2] = get_impute_knn_score(X_miss_diabetes,\n",
    "                                                          y_miss_diabetes)"
   ]
  },
  {
   "cell_type": "code",
   "execution_count": 33,
   "metadata": {},
   "outputs": [
    {
     "data": {
      "text/plain": [
       "array([ 0.        ,  0.        , -0.29743643,  0.        ,  0.        ])"
      ]
     },
     "execution_count": 33,
     "metadata": {},
     "output_type": "execute_result"
    }
   ],
   "source": [
    "#mses_california\n"
   ]
  },
  {
   "cell_type": "code",
   "execution_count": null,
   "metadata": {},
   "outputs": [],
   "source": []
  },
  {
   "cell_type": "code",
   "execution_count": 27,
   "metadata": {},
   "outputs": [
    {
     "ename": "AttributeError",
     "evalue": "'numpy.ndarray' object has no attribute 'isna'",
     "output_type": "error",
     "traceback": [
      "\u001b[0;31m---------------------------------------------------------------------------\u001b[0m",
      "\u001b[0;31mAttributeError\u001b[0m                            Traceback (most recent call last)",
      "\u001b[0;32m<ipython-input-27-26ace129ebc9>\u001b[0m in \u001b[0;36m<module>\u001b[0;34m\u001b[0m\n\u001b[1;32m      1\u001b[0m \u001b[0;31m# Check if there any missing values in train set\u001b[0m\u001b[0;34m\u001b[0m\u001b[0;34m\u001b[0m\u001b[0;34m\u001b[0m\u001b[0m\n\u001b[0;32m----> 2\u001b[0;31m \u001b[0max\u001b[0m \u001b[0;34m=\u001b[0m \u001b[0mdf_filled\u001b[0m\u001b[0;34m.\u001b[0m\u001b[0misna\u001b[0m\u001b[0;34m(\u001b[0m\u001b[0;34m)\u001b[0m\u001b[0;34m.\u001b[0m\u001b[0msum\u001b[0m\u001b[0;34m(\u001b[0m\u001b[0;34m)\u001b[0m\u001b[0;34m.\u001b[0m\u001b[0msort_values\u001b[0m\u001b[0;34m(\u001b[0m\u001b[0;34m)\u001b[0m\u001b[0;34m.\u001b[0m\u001b[0mplot\u001b[0m\u001b[0;34m(\u001b[0m\u001b[0mkind\u001b[0m \u001b[0;34m=\u001b[0m \u001b[0;34m'barh'\u001b[0m\u001b[0;34m,\u001b[0m \u001b[0mfigsize\u001b[0m \u001b[0;34m=\u001b[0m \u001b[0;34m(\u001b[0m\u001b[0;36m9\u001b[0m\u001b[0;34m,\u001b[0m \u001b[0;36m10\u001b[0m\u001b[0;34m)\u001b[0m\u001b[0;34m)\u001b[0m\u001b[0;34m\u001b[0m\u001b[0;34m\u001b[0m\u001b[0m\n\u001b[0m\u001b[1;32m      3\u001b[0m \u001b[0mplt\u001b[0m\u001b[0;34m.\u001b[0m\u001b[0mtitle\u001b[0m\u001b[0;34m(\u001b[0m\u001b[0;34m'Percentage of Missing Values Per Column in Train Set'\u001b[0m\u001b[0;34m,\u001b[0m \u001b[0mfontdict\u001b[0m\u001b[0;34m=\u001b[0m\u001b[0;34m{\u001b[0m\u001b[0;34m'size'\u001b[0m\u001b[0;34m:\u001b[0m\u001b[0;36m15\u001b[0m\u001b[0;34m}\u001b[0m\u001b[0;34m)\u001b[0m\u001b[0;34m\u001b[0m\u001b[0;34m\u001b[0m\u001b[0m\n\u001b[1;32m      4\u001b[0m \u001b[0;32mfor\u001b[0m \u001b[0mp\u001b[0m \u001b[0;32min\u001b[0m \u001b[0max\u001b[0m\u001b[0;34m.\u001b[0m\u001b[0mpatches\u001b[0m\u001b[0;34m:\u001b[0m\u001b[0;34m\u001b[0m\u001b[0;34m\u001b[0m\u001b[0m\n\u001b[1;32m      5\u001b[0m     \u001b[0mpercentage\u001b[0m \u001b[0;34m=\u001b[0m\u001b[0;34m'{:,.0f}%'\u001b[0m\u001b[0;34m.\u001b[0m\u001b[0mformat\u001b[0m\u001b[0;34m(\u001b[0m\u001b[0;34m(\u001b[0m\u001b[0mp\u001b[0m\u001b[0;34m.\u001b[0m\u001b[0mget_width\u001b[0m\u001b[0;34m(\u001b[0m\u001b[0;34m)\u001b[0m\u001b[0;34m/\u001b[0m\u001b[0mtrain\u001b[0m\u001b[0;34m.\u001b[0m\u001b[0mshape\u001b[0m\u001b[0;34m[\u001b[0m\u001b[0;36m0\u001b[0m\u001b[0;34m]\u001b[0m\u001b[0;34m)\u001b[0m\u001b[0;34m*\u001b[0m\u001b[0;36m100\u001b[0m\u001b[0;34m)\u001b[0m\u001b[0;34m\u001b[0m\u001b[0;34m\u001b[0m\u001b[0m\n",
      "\u001b[0;31mAttributeError\u001b[0m: 'numpy.ndarray' object has no attribute 'isna'"
     ]
    }
   ],
   "source": [
    "# Check if there any missing values in train set\n",
    "ax = df_filled.isna().sum().sort_values().plot(kind = 'barh', figsize = (9, 10))\n",
    "plt.title('Percentage of Missing Values Per Column in Train Set', fontdict={'size':15})\n",
    "for p in ax.patches:\n",
    "    percentage ='{:,.0f}%'.format((p.get_width()/train.shape[0])*100)\n",
    "    width, height =p.get_width(),p.get_height()\n",
    "    x=p.get_x()+width+0.02\n",
    "    y=p.get_y()+height/2\n",
    "    ax.annotate(percentage,(x,y))"
   ]
  },
  {
   "cell_type": "code",
   "execution_count": null,
   "metadata": {},
   "outputs": [],
   "source": [
    "imputer = KNNImputer(n_neighbors=5) \n",
    "\n",
    "imputer.fit_transform(X) #Fit to data, then transform it.\n",
    "\n",
    "\n",
    "fit(X, y=None) #Fit the imputer on X.\n",
    "\n",
    "fit_transform(X, y=None, **fit_params) #Fit to data, then transform it.\n",
    "\n",
    "#Fits transformer to X and y with optional parameters fit_params and returns a transformed version of X. \n",
    "\n",
    "get_params(deep=True) #Get parameters for this estimator.\n",
    "\n",
    "set_params(**params) #Set the parameters of this estimator.\n",
    "\n",
    "#The method works on simple estimators as well as on nested objects (such as Pipeline). The latter have parameters of the form <component>__<parameter> so that it’s possible to update each component of a nested object.\n",
    "\n",
    "transform(X) #Impute all missing values in X.\n"
   ]
  },
  {
   "cell_type": "code",
   "execution_count": null,
   "metadata": {},
   "outputs": [],
   "source": []
  },
  {
   "cell_type": "code",
   "execution_count": null,
   "metadata": {},
   "outputs": [],
   "source": [
    "#find a formula/distribution to fill the values (not with 0) \n",
    "https://www.askpython.com/python/examples/impute-missing-data-values\n",
    "https://scikit-learn.org/stable/modules/impute.html\n",
    "https://www.kaggle.com/residentmario/simple-techniques-for-missing-data-imputation\n",
    "https://machinelearningmastery.com/handle-missing-data-python/\n",
    "https://www.geeksforgeeks.org/python-pandas-dataframe-interpolate/\n",
    "https://www.geeksforgeeks.org/working-with-missing-data-in-pandas/"
   ]
  },
  {
   "cell_type": "code",
   "execution_count": null,
   "metadata": {},
   "outputs": [],
   "source": []
  },
  {
   "cell_type": "code",
   "execution_count": 9,
   "metadata": {
    "id": "NvMm4aMlb59g"
   },
   "outputs": [],
   "source": [
    "# fill missing values \n",
    "train = train.fillna(0)\n",
    "test = test.fillna(0)"
   ]
  },
  {
   "cell_type": "code",
   "execution_count": null,
   "metadata": {},
   "outputs": [],
   "source": []
  },
  {
   "cell_type": "code",
   "execution_count": 10,
   "metadata": {
    "colab": {
     "base_uri": "https://localhost:8080/"
    },
    "id": "u_PUS8MxeNRU",
    "outputId": "8de62541-5c2f-49f8-bd28-45c09b9d2f75"
   },
   "outputs": [
    {
     "data": {
      "text/plain": [
       "(False, False)"
      ]
     },
     "execution_count": 10,
     "metadata": {
      "tags": []
     },
     "output_type": "execute_result"
    }
   ],
   "source": [
    "# Check for duplicates\n",
    "train.duplicated().any(), test.duplicated().any()"
   ]
  },
  {
   "cell_type": "code",
   "execution_count": 11,
   "metadata": {
    "id": "6odSlKUfGgCU"
   },
   "outputs": [],
   "source": [
    "# Select main columns to be used in training\n",
    "main_cols = train.columns.difference(['id', 'close'])\n",
    "X = train[main_cols]\n",
    "y = train.close.astype(float)\n",
    "\n",
    "# Split data into train and test sets\n",
    "X_train, X_test, y_train, y_test = train_test_split(X,y,test_size=0.3, random_state=42)"
   ]
  },
  {
   "cell_type": "code",
   "execution_count": 12,
   "metadata": {
    "id": "UsxxFFp-hatQ"
   },
   "outputs": [],
   "source": [
    "# Instantiate model\n",
    "lm2 = LinearRegression()\n",
    "# Fit Model\n",
    "lm2.fit(X_train, y_train)\n",
    "# Predict\n",
    "y_pred = lm2.predict(X_test)"
   ]
  },
  {
   "cell_type": "code",
   "execution_count": 13,
   "metadata": {
    "id": "llaGERIUGpua"
   },
   "outputs": [],
   "source": [
    "# Make predictions in test set and prepare submission file\n",
    "predictions = lm2.predict(test[main_cols])\n",
    "sub_file = ss.copy()\n",
    "sub_file.close = predictions\n",
    "sub_file.to_csv('Baseline.csv', index = False)"
   ]
  },
  {
   "cell_type": "code",
   "execution_count": 14,
   "metadata": {
    "colab": {
     "base_uri": "https://localhost:8080/",
     "height": 204
    },
    "id": "gssHYRfUjW6H",
    "outputId": "24edb8cf-8c43-4528-99b7-6d7a7fba3626"
   },
   "outputs": [
    {
     "data": {
      "text/html": [
       "<div>\n",
       "<style scoped>\n",
       "    .dataframe tbody tr th:only-of-type {\n",
       "        vertical-align: middle;\n",
       "    }\n",
       "\n",
       "    .dataframe tbody tr th {\n",
       "        vertical-align: top;\n",
       "    }\n",
       "\n",
       "    .dataframe thead th {\n",
       "        text-align: right;\n",
       "    }\n",
       "</style>\n",
       "<table border=\"1\" class=\"dataframe\">\n",
       "  <thead>\n",
       "    <tr style=\"text-align: right;\">\n",
       "      <th></th>\n",
       "      <th>id</th>\n",
       "      <th>close</th>\n",
       "    </tr>\n",
       "  </thead>\n",
       "  <tbody>\n",
       "    <tr>\n",
       "      <th>0</th>\n",
       "      <td>ID_323Sn2</td>\n",
       "      <td>-0.316487</td>\n",
       "    </tr>\n",
       "    <tr>\n",
       "      <th>1</th>\n",
       "      <td>ID_325SNW</td>\n",
       "      <td>11360.056013</td>\n",
       "    </tr>\n",
       "    <tr>\n",
       "      <th>2</th>\n",
       "      <td>ID_325uzE</td>\n",
       "      <td>6306.758106</td>\n",
       "    </tr>\n",
       "    <tr>\n",
       "      <th>3</th>\n",
       "      <td>ID_328qCx</td>\n",
       "      <td>-0.239739</td>\n",
       "    </tr>\n",
       "    <tr>\n",
       "      <th>4</th>\n",
       "      <td>ID_3293uJ</td>\n",
       "      <td>1.153112</td>\n",
       "    </tr>\n",
       "  </tbody>\n",
       "</table>\n",
       "</div>"
      ],
      "text/plain": [
       "          id         close\n",
       "0  ID_323Sn2     -0.316487\n",
       "1  ID_325SNW  11360.056013\n",
       "2  ID_325uzE   6306.758106\n",
       "3  ID_328qCx     -0.239739\n",
       "4  ID_3293uJ      1.153112"
      ]
     },
     "execution_count": 14,
     "metadata": {
      "tags": []
     },
     "output_type": "execute_result"
    }
   ],
   "source": [
    "sub_file.head()"
   ]
  },
  {
   "cell_type": "code",
   "execution_count": 15,
   "metadata": {
    "colab": {
     "base_uri": "https://localhost:8080/",
     "height": 17
    },
    "id": "kPMUtBiMjnAy",
    "outputId": "41528c62-36dd-4553-c27c-0aed39fe319a"
   },
   "outputs": [
    {
     "data": {
      "application/javascript": [
       "\n",
       "    async function download(id, filename, size) {\n",
       "      if (!google.colab.kernel.accessAllowed) {\n",
       "        return;\n",
       "      }\n",
       "      const div = document.createElement('div');\n",
       "      const label = document.createElement('label');\n",
       "      label.textContent = `Downloading \"${filename}\": `;\n",
       "      div.appendChild(label);\n",
       "      const progress = document.createElement('progress');\n",
       "      progress.max = size;\n",
       "      div.appendChild(progress);\n",
       "      document.body.appendChild(div);\n",
       "\n",
       "      const buffers = [];\n",
       "      let downloaded = 0;\n",
       "\n",
       "      const channel = await google.colab.kernel.comms.open(id);\n",
       "      // Send a message to notify the kernel that we're ready.\n",
       "      channel.send({})\n",
       "\n",
       "      for await (const message of channel.messages) {\n",
       "        // Send a message to notify the kernel that we're ready.\n",
       "        channel.send({})\n",
       "        if (message.buffers) {\n",
       "          for (const buffer of message.buffers) {\n",
       "            buffers.push(buffer);\n",
       "            downloaded += buffer.byteLength;\n",
       "            progress.value = downloaded;\n",
       "          }\n",
       "        }\n",
       "      }\n",
       "      const blob = new Blob(buffers, {type: 'application/binary'});\n",
       "      const a = document.createElement('a');\n",
       "      a.href = window.URL.createObjectURL(blob);\n",
       "      a.download = filename;\n",
       "      div.appendChild(a);\n",
       "      a.click();\n",
       "      div.remove();\n",
       "    }\n",
       "  "
      ],
      "text/plain": [
       "<IPython.core.display.Javascript object>"
      ]
     },
     "metadata": {
      "tags": []
     },
     "output_type": "display_data"
    },
    {
     "data": {
      "application/javascript": [
       "download(\"download_19befcc1-a128-4be0-96a6-1867d7551e95\", \"Baseline.csv\", 178471)"
      ],
      "text/plain": [
       "<IPython.core.display.Javascript object>"
      ]
     },
     "metadata": {
      "tags": []
     },
     "output_type": "display_data"
    }
   ],
   "source": [
    "files.download('Baseline.csv') "
   ]
  }
 ],
 "metadata": {
  "colab": {
   "collapsed_sections": [],
   "name": "AIhackathon2.0_StarterNotebook.ipynb",
   "provenance": [],
   "toc_visible": true
  },
  "kernelspec": {
   "display_name": "Python 3",
   "language": "python",
   "name": "python3"
  },
  "language_info": {
   "codemirror_mode": {
    "name": "ipython",
    "version": 3
   },
   "file_extension": ".py",
   "mimetype": "text/x-python",
   "name": "python",
   "nbconvert_exporter": "python",
   "pygments_lexer": "ipython3",
   "version": "3.8.10"
  }
 },
 "nbformat": 4,
 "nbformat_minor": 4
}
